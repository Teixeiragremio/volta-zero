{
 "cells": [
  {
   "cell_type": "code",
   "execution_count": 13,
   "id": "8fe58b5c-ddcf-44b0-b843-1ed024570a7b",
   "metadata": {},
   "outputs": [
    {
     "data": {
      "text/plain": [
       "2"
      ]
     },
     "execution_count": 13,
     "metadata": {},
     "output_type": "execute_result"
    }
   ],
   "source": [
    "1+1\n"
   ]
  },
  {
   "cell_type": "code",
   "execution_count": 14,
   "id": "ef67c767-8ada-48a9-a439-5e36eb46370d",
   "metadata": {},
   "outputs": [
    {
     "data": {
      "text/plain": [
       "9"
      ]
     },
     "execution_count": 14,
     "metadata": {},
     "output_type": "execute_result"
    }
   ],
   "source": [
    "3**2\n"
   ]
  },
  {
   "cell_type": "markdown",
   "id": "1e86a13d-aac1-4940-96ef-46dfad700572",
   "metadata": {},
   "source": [
    "Text example in *markdown*"
   ]
  },
  {
   "cell_type": "markdown",
   "id": "116ee80b-6e27-44c4-b168-2e63a4e888e1",
   "metadata": {},
   "source": [
    "#Exemple\n",
    "Exemple "
   ]
  }
 ],
 "metadata": {
  "kernelspec": {
   "display_name": "Python 3 (ipykernel)",
   "language": "python",
   "name": "python3"
  },
  "language_info": {
   "codemirror_mode": {
    "name": "ipython",
    "version": 3
   },
   "file_extension": ".py",
   "mimetype": "text/x-python",
   "name": "python",
   "nbconvert_exporter": "python",
   "pygments_lexer": "ipython3",
   "version": "3.12.4"
  }
 },
 "nbformat": 4,
 "nbformat_minor": 5
}
